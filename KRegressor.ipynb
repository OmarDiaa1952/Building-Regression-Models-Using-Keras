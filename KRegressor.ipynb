{
 "cells": [
  {
   "cell_type": "markdown",
   "metadata": {
    "colab_type": "text",
    "id": "W24fTwDzUSvY"
   },
   "source": [
    "##Import Libraries"
   ]
  },
  {
   "cell_type": "code",
   "execution_count": 46,
   "metadata": {
    "colab": {},
    "colab_type": "code",
    "id": "fis-iZ9GSo5S"
   },
   "outputs": [],
   "source": [
    "import keras # for modeling the nueral network\n",
    "from keras.models import Sequential\n",
    "from keras.layers import Dense\n",
    "import pandas as pd # for getting data from csv\n",
    "from numpy import mean,std # for calculating standard deviation of MSE\n",
    "from sklearn.model_selection import train_test_split # for split train and test sets\n",
    "from sklearn.metrics import mean_squared_error # for evaluating the model\n",
    "import matplotlib.pyplot as plt # for plotting MSE data"
   ]
  },
  {
   "cell_type": "markdown",
   "metadata": {
    "colab_type": "text",
    "id": "iq5aDVaqUO8x"
   },
   "source": [
    "##Downloading the csv file"
   ]
  },
  {
   "cell_type": "code",
   "execution_count": 2,
   "metadata": {
    "colab": {
     "base_uri": "https://localhost:8080/",
     "height": 286
    },
    "colab_type": "code",
    "id": "w6P0SjCrUbgg",
    "outputId": "5ee29486-b3f7-4b11-d4d7-22bef6b62827"
   },
   "outputs": [
    {
     "name": "stdout",
     "output_type": "stream",
     "text": [
      "--2020-06-19 02:03:11--  https://cocl.us/concrete_data\n",
      "Resolving cocl.us (cocl.us)... 161.202.50.39, 119.81.168.75, 119.81.168.76\n",
      "Connecting to cocl.us (cocl.us)|161.202.50.39|:443... connected.\n",
      "HTTP request sent, awaiting response... 301 Moved Permanently\n",
      "Location: https://s3-api.us-geo.objectstorage.softlayer.net/cf-courses-data/CognitiveClass/DL0101EN/labs/data/concrete_data.csv [following]\n",
      "--2020-06-19 02:03:12--  https://s3-api.us-geo.objectstorage.softlayer.net/cf-courses-data/CognitiveClass/DL0101EN/labs/data/concrete_data.csv\n",
      "Resolving s3-api.us-geo.objectstorage.softlayer.net (s3-api.us-geo.objectstorage.softlayer.net)... 67.228.254.196\n",
      "Connecting to s3-api.us-geo.objectstorage.softlayer.net (s3-api.us-geo.objectstorage.softlayer.net)|67.228.254.196|:443... connected.\n",
      "HTTP request sent, awaiting response... 200 OK\n",
      "Length: 58988 (58K) [text/csv]\n",
      "Saving to: ‘concrete_data’\n",
      "\n",
      "concrete_data       100%[===================>]  57.61K   194KB/s    in 0.3s    \n",
      "\n",
      "2020-06-19 02:03:13 (194 KB/s) - ‘concrete_data’ saved [58988/58988]\n",
      "\n"
     ]
    }
   ],
   "source": [
    "!wget https://cocl.us/concrete_data"
   ]
  },
  {
   "cell_type": "markdown",
   "metadata": {
    "colab_type": "text",
    "id": "Dwarl-uvU3RG"
   },
   "source": [
    "##Reading the data"
   ]
  },
  {
   "cell_type": "code",
   "execution_count": 5,
   "metadata": {
    "colab": {},
    "colab_type": "code",
    "id": "tPqcuiXCU2jm"
   },
   "outputs": [],
   "source": [
    "data=pd.read_csv(\"/content/concrete_data\")"
   ]
  },
  {
   "cell_type": "code",
   "execution_count": 6,
   "metadata": {
    "colab": {
     "base_uri": "https://localhost:8080/",
     "height": 195
    },
    "colab_type": "code",
    "id": "HRWzWG7GVMFy",
    "outputId": "9a849a15-c1d7-4714-d6a4-ccdb1e82caf7"
   },
   "outputs": [
    {
     "data": {
      "text/html": [
       "<div>\n",
       "<style scoped>\n",
       "    .dataframe tbody tr th:only-of-type {\n",
       "        vertical-align: middle;\n",
       "    }\n",
       "\n",
       "    .dataframe tbody tr th {\n",
       "        vertical-align: top;\n",
       "    }\n",
       "\n",
       "    .dataframe thead th {\n",
       "        text-align: right;\n",
       "    }\n",
       "</style>\n",
       "<table border=\"1\" class=\"dataframe\">\n",
       "  <thead>\n",
       "    <tr style=\"text-align: right;\">\n",
       "      <th></th>\n",
       "      <th>Cement</th>\n",
       "      <th>Blast Furnace Slag</th>\n",
       "      <th>Fly Ash</th>\n",
       "      <th>Water</th>\n",
       "      <th>Superplasticizer</th>\n",
       "      <th>Coarse Aggregate</th>\n",
       "      <th>Fine Aggregate</th>\n",
       "      <th>Age</th>\n",
       "      <th>Strength</th>\n",
       "    </tr>\n",
       "  </thead>\n",
       "  <tbody>\n",
       "    <tr>\n",
       "      <th>0</th>\n",
       "      <td>540.0</td>\n",
       "      <td>0.0</td>\n",
       "      <td>0.0</td>\n",
       "      <td>162.0</td>\n",
       "      <td>2.5</td>\n",
       "      <td>1040.0</td>\n",
       "      <td>676.0</td>\n",
       "      <td>28</td>\n",
       "      <td>79.99</td>\n",
       "    </tr>\n",
       "    <tr>\n",
       "      <th>1</th>\n",
       "      <td>540.0</td>\n",
       "      <td>0.0</td>\n",
       "      <td>0.0</td>\n",
       "      <td>162.0</td>\n",
       "      <td>2.5</td>\n",
       "      <td>1055.0</td>\n",
       "      <td>676.0</td>\n",
       "      <td>28</td>\n",
       "      <td>61.89</td>\n",
       "    </tr>\n",
       "    <tr>\n",
       "      <th>2</th>\n",
       "      <td>332.5</td>\n",
       "      <td>142.5</td>\n",
       "      <td>0.0</td>\n",
       "      <td>228.0</td>\n",
       "      <td>0.0</td>\n",
       "      <td>932.0</td>\n",
       "      <td>594.0</td>\n",
       "      <td>270</td>\n",
       "      <td>40.27</td>\n",
       "    </tr>\n",
       "    <tr>\n",
       "      <th>3</th>\n",
       "      <td>332.5</td>\n",
       "      <td>142.5</td>\n",
       "      <td>0.0</td>\n",
       "      <td>228.0</td>\n",
       "      <td>0.0</td>\n",
       "      <td>932.0</td>\n",
       "      <td>594.0</td>\n",
       "      <td>365</td>\n",
       "      <td>41.05</td>\n",
       "    </tr>\n",
       "    <tr>\n",
       "      <th>4</th>\n",
       "      <td>198.6</td>\n",
       "      <td>132.4</td>\n",
       "      <td>0.0</td>\n",
       "      <td>192.0</td>\n",
       "      <td>0.0</td>\n",
       "      <td>978.4</td>\n",
       "      <td>825.5</td>\n",
       "      <td>360</td>\n",
       "      <td>44.30</td>\n",
       "    </tr>\n",
       "  </tbody>\n",
       "</table>\n",
       "</div>"
      ],
      "text/plain": [
       "   Cement  Blast Furnace Slag  Fly Ash  ...  Fine Aggregate  Age  Strength\n",
       "0   540.0                 0.0      0.0  ...           676.0   28     79.99\n",
       "1   540.0                 0.0      0.0  ...           676.0   28     61.89\n",
       "2   332.5               142.5      0.0  ...           594.0  270     40.27\n",
       "3   332.5               142.5      0.0  ...           594.0  365     41.05\n",
       "4   198.6               132.4      0.0  ...           825.5  360     44.30\n",
       "\n",
       "[5 rows x 9 columns]"
      ]
     },
     "execution_count": 6,
     "metadata": {
      "tags": []
     },
     "output_type": "execute_result"
    }
   ],
   "source": [
    "data.head()"
   ]
  },
  {
   "cell_type": "markdown",
   "metadata": {
    "colab_type": "text",
    "id": "lCIDqdZvXPCH"
   },
   "source": [
    "##Getting data ready for training"
   ]
  },
  {
   "cell_type": "code",
   "execution_count": 10,
   "metadata": {
    "colab": {},
    "colab_type": "code",
    "id": "m7mRf0INVTEP"
   },
   "outputs": [],
   "source": [
    "data_columns = data.columns\n",
    "predictors = data[data_columns[data_columns != 'Strength']]# all columns except Strength & Age\n",
    "predictors_columns = predictors.columns\n",
    "predictors = predictors[predictors_columns[predictors_columns != 'Age']]# all columns except Strength & Age\n",
    "target = data['Strength'] # Strength column"
   ]
  },
  {
   "cell_type": "code",
   "execution_count": 11,
   "metadata": {
    "colab": {
     "base_uri": "https://localhost:8080/",
     "height": 195
    },
    "colab_type": "code",
    "id": "Dshjfi0_WclD",
    "outputId": "9b98378a-4c90-481a-8a03-2a59774dd954"
   },
   "outputs": [
    {
     "data": {
      "text/html": [
       "<div>\n",
       "<style scoped>\n",
       "    .dataframe tbody tr th:only-of-type {\n",
       "        vertical-align: middle;\n",
       "    }\n",
       "\n",
       "    .dataframe tbody tr th {\n",
       "        vertical-align: top;\n",
       "    }\n",
       "\n",
       "    .dataframe thead th {\n",
       "        text-align: right;\n",
       "    }\n",
       "</style>\n",
       "<table border=\"1\" class=\"dataframe\">\n",
       "  <thead>\n",
       "    <tr style=\"text-align: right;\">\n",
       "      <th></th>\n",
       "      <th>Cement</th>\n",
       "      <th>Blast Furnace Slag</th>\n",
       "      <th>Fly Ash</th>\n",
       "      <th>Water</th>\n",
       "      <th>Superplasticizer</th>\n",
       "      <th>Coarse Aggregate</th>\n",
       "      <th>Fine Aggregate</th>\n",
       "    </tr>\n",
       "  </thead>\n",
       "  <tbody>\n",
       "    <tr>\n",
       "      <th>0</th>\n",
       "      <td>540.0</td>\n",
       "      <td>0.0</td>\n",
       "      <td>0.0</td>\n",
       "      <td>162.0</td>\n",
       "      <td>2.5</td>\n",
       "      <td>1040.0</td>\n",
       "      <td>676.0</td>\n",
       "    </tr>\n",
       "    <tr>\n",
       "      <th>1</th>\n",
       "      <td>540.0</td>\n",
       "      <td>0.0</td>\n",
       "      <td>0.0</td>\n",
       "      <td>162.0</td>\n",
       "      <td>2.5</td>\n",
       "      <td>1055.0</td>\n",
       "      <td>676.0</td>\n",
       "    </tr>\n",
       "    <tr>\n",
       "      <th>2</th>\n",
       "      <td>332.5</td>\n",
       "      <td>142.5</td>\n",
       "      <td>0.0</td>\n",
       "      <td>228.0</td>\n",
       "      <td>0.0</td>\n",
       "      <td>932.0</td>\n",
       "      <td>594.0</td>\n",
       "    </tr>\n",
       "    <tr>\n",
       "      <th>3</th>\n",
       "      <td>332.5</td>\n",
       "      <td>142.5</td>\n",
       "      <td>0.0</td>\n",
       "      <td>228.0</td>\n",
       "      <td>0.0</td>\n",
       "      <td>932.0</td>\n",
       "      <td>594.0</td>\n",
       "    </tr>\n",
       "    <tr>\n",
       "      <th>4</th>\n",
       "      <td>198.6</td>\n",
       "      <td>132.4</td>\n",
       "      <td>0.0</td>\n",
       "      <td>192.0</td>\n",
       "      <td>0.0</td>\n",
       "      <td>978.4</td>\n",
       "      <td>825.5</td>\n",
       "    </tr>\n",
       "  </tbody>\n",
       "</table>\n",
       "</div>"
      ],
      "text/plain": [
       "   Cement  Blast Furnace Slag  ...  Coarse Aggregate  Fine Aggregate\n",
       "0   540.0                 0.0  ...            1040.0           676.0\n",
       "1   540.0                 0.0  ...            1055.0           676.0\n",
       "2   332.5               142.5  ...             932.0           594.0\n",
       "3   332.5               142.5  ...             932.0           594.0\n",
       "4   198.6               132.4  ...             978.4           825.5\n",
       "\n",
       "[5 rows x 7 columns]"
      ]
     },
     "execution_count": 11,
     "metadata": {
      "tags": []
     },
     "output_type": "execute_result"
    }
   ],
   "source": [
    "predictors.head()"
   ]
  },
  {
   "cell_type": "code",
   "execution_count": 12,
   "metadata": {
    "colab": {
     "base_uri": "https://localhost:8080/",
     "height": 118
    },
    "colab_type": "code",
    "id": "FikfgaHFWiYP",
    "outputId": "0dda906e-327e-4736-e15d-e1bf2deb6ccc"
   },
   "outputs": [
    {
     "data": {
      "text/plain": [
       "0    79.99\n",
       "1    61.89\n",
       "2    40.27\n",
       "3    41.05\n",
       "4    44.30\n",
       "Name: Strength, dtype: float64"
      ]
     },
     "execution_count": 12,
     "metadata": {
      "tags": []
     },
     "output_type": "execute_result"
    }
   ],
   "source": [
    "target.head()"
   ]
  },
  {
   "cell_type": "code",
   "execution_count": 14,
   "metadata": {
    "colab": {
     "base_uri": "https://localhost:8080/",
     "height": 34
    },
    "colab_type": "code",
    "id": "wtQQjI7RWp-Z",
    "outputId": "25d012bc-ea08-4a3a-a948-010476226bc0"
   },
   "outputs": [
    {
     "data": {
      "text/plain": [
       "(1030, 7)"
      ]
     },
     "execution_count": 14,
     "metadata": {
      "tags": []
     },
     "output_type": "execute_result"
    }
   ],
   "source": [
    "n_cols=predictors.shape[1] # for NL\n",
    "predictors.shape"
   ]
  },
  {
   "cell_type": "markdown",
   "metadata": {
    "colab_type": "text",
    "id": "Lm04U3YQXUJx"
   },
   "source": [
    "##Normalizing the data"
   ]
  },
  {
   "cell_type": "code",
   "execution_count": 15,
   "metadata": {
    "colab": {
     "base_uri": "https://localhost:8080/",
     "height": 195
    },
    "colab_type": "code",
    "id": "h-qbS3f8W2C_",
    "outputId": "25a2a099-47db-459a-8aac-77f17f72842e"
   },
   "outputs": [
    {
     "data": {
      "text/html": [
       "<div>\n",
       "<style scoped>\n",
       "    .dataframe tbody tr th:only-of-type {\n",
       "        vertical-align: middle;\n",
       "    }\n",
       "\n",
       "    .dataframe tbody tr th {\n",
       "        vertical-align: top;\n",
       "    }\n",
       "\n",
       "    .dataframe thead th {\n",
       "        text-align: right;\n",
       "    }\n",
       "</style>\n",
       "<table border=\"1\" class=\"dataframe\">\n",
       "  <thead>\n",
       "    <tr style=\"text-align: right;\">\n",
       "      <th></th>\n",
       "      <th>Cement</th>\n",
       "      <th>Blast Furnace Slag</th>\n",
       "      <th>Fly Ash</th>\n",
       "      <th>Water</th>\n",
       "      <th>Superplasticizer</th>\n",
       "      <th>Coarse Aggregate</th>\n",
       "      <th>Fine Aggregate</th>\n",
       "    </tr>\n",
       "  </thead>\n",
       "  <tbody>\n",
       "    <tr>\n",
       "      <th>0</th>\n",
       "      <td>2.476712</td>\n",
       "      <td>-0.856472</td>\n",
       "      <td>-0.846733</td>\n",
       "      <td>-0.916319</td>\n",
       "      <td>-0.620147</td>\n",
       "      <td>0.862735</td>\n",
       "      <td>-1.217079</td>\n",
       "    </tr>\n",
       "    <tr>\n",
       "      <th>1</th>\n",
       "      <td>2.476712</td>\n",
       "      <td>-0.856472</td>\n",
       "      <td>-0.846733</td>\n",
       "      <td>-0.916319</td>\n",
       "      <td>-0.620147</td>\n",
       "      <td>1.055651</td>\n",
       "      <td>-1.217079</td>\n",
       "    </tr>\n",
       "    <tr>\n",
       "      <th>2</th>\n",
       "      <td>0.491187</td>\n",
       "      <td>0.795140</td>\n",
       "      <td>-0.846733</td>\n",
       "      <td>2.174405</td>\n",
       "      <td>-1.038638</td>\n",
       "      <td>-0.526262</td>\n",
       "      <td>-2.239829</td>\n",
       "    </tr>\n",
       "    <tr>\n",
       "      <th>3</th>\n",
       "      <td>0.491187</td>\n",
       "      <td>0.795140</td>\n",
       "      <td>-0.846733</td>\n",
       "      <td>2.174405</td>\n",
       "      <td>-1.038638</td>\n",
       "      <td>-0.526262</td>\n",
       "      <td>-2.239829</td>\n",
       "    </tr>\n",
       "    <tr>\n",
       "      <th>4</th>\n",
       "      <td>-0.790075</td>\n",
       "      <td>0.678079</td>\n",
       "      <td>-0.846733</td>\n",
       "      <td>0.488555</td>\n",
       "      <td>-1.038638</td>\n",
       "      <td>0.070492</td>\n",
       "      <td>0.647569</td>\n",
       "    </tr>\n",
       "  </tbody>\n",
       "</table>\n",
       "</div>"
      ],
      "text/plain": [
       "     Cement  Blast Furnace Slag  ...  Coarse Aggregate  Fine Aggregate\n",
       "0  2.476712           -0.856472  ...          0.862735       -1.217079\n",
       "1  2.476712           -0.856472  ...          1.055651       -1.217079\n",
       "2  0.491187            0.795140  ...         -0.526262       -2.239829\n",
       "3  0.491187            0.795140  ...         -0.526262       -2.239829\n",
       "4 -0.790075            0.678079  ...          0.070492        0.647569\n",
       "\n",
       "[5 rows x 7 columns]"
      ]
     },
     "execution_count": 15,
     "metadata": {
      "tags": []
     },
     "output_type": "execute_result"
    }
   ],
   "source": [
    "predictors_norm = (predictors - predictors.mean()) / predictors.std()\n",
    "predictors_norm.head()"
   ]
  },
  {
   "cell_type": "markdown",
   "metadata": {
    "colab_type": "text",
    "id": "r-kRHSaLXpJ0"
   },
   "source": [
    "#Part(A) ->> Keras Baseline model"
   ]
  },
  {
   "cell_type": "code",
   "execution_count": 17,
   "metadata": {
    "colab": {},
    "colab_type": "code",
    "id": "6l8ih7bBXp72"
   },
   "outputs": [],
   "source": [
    "# Baseline model\n",
    "def k_reg_model():\n",
    "    # create model\n",
    "    model = Sequential()\n",
    "    model.add(Dense(10, activation='relu', input_shape=(n_cols,)))\n",
    "    model.add(Dense(1))\n",
    "    \n",
    "    # compiling the model\n",
    "    model.compile(optimizer='adam', loss='mean_squared_error')\n",
    "    return model"
   ]
  },
  {
   "cell_type": "markdown",
   "metadata": {
    "colab_type": "text",
    "id": "kDpXcZspYBag"
   },
   "source": [
    "###Spliting data to test and train sets"
   ]
  },
  {
   "cell_type": "code",
   "execution_count": 24,
   "metadata": {
    "colab": {},
    "colab_type": "code",
    "id": "5xUUVeHEYHcX"
   },
   "outputs": [],
   "source": [
    "X_train, X_test, y_train, y_test = train_test_split(predictors,target,test_size=0.3,shuffle=True) \n",
    "#holding 30% of the data for testing with shuffling is true for randoming"
   ]
  },
  {
   "cell_type": "markdown",
   "metadata": {
    "colab_type": "text",
    "id": "MTKlWpuqZFFt"
   },
   "source": [
    "###Building the model & Training"
   ]
  },
  {
   "cell_type": "code",
   "execution_count": 25,
   "metadata": {
    "colab": {},
    "colab_type": "code",
    "id": "gJTxywgjYpJ6"
   },
   "outputs": [],
   "source": [
    "reg_model=k_reg_model()"
   ]
  },
  {
   "cell_type": "code",
   "execution_count": null,
   "metadata": {
    "colab": {},
    "colab_type": "code",
    "id": "TWNtwPAAZO4H"
   },
   "outputs": [],
   "source": [
    "reg_model.fit(X_train, y_train, epochs=50, verbose=0)\n",
    "#last_loss_value=reg_model.history.history[\"loss\"][-1]"
   ]
  },
  {
   "cell_type": "markdown",
   "metadata": {
    "colab_type": "text",
    "id": "c7ydkjHubqTG"
   },
   "source": [
    "###Evaluate the model"
   ]
  },
  {
   "cell_type": "code",
   "execution_count": 37,
   "metadata": {
    "colab": {
     "base_uri": "https://localhost:8080/",
     "height": 34
    },
    "colab_type": "code",
    "id": "u2Oqr-nZbpnv",
    "outputId": "f9337c47-6238-48de-e64a-201fd63139a2"
   },
   "outputs": [
    {
     "data": {
      "text/plain": [
       "778.8746144750937"
      ]
     },
     "execution_count": 37,
     "metadata": {
      "tags": []
     },
     "output_type": "execute_result"
    }
   ],
   "source": [
    "y_predict=reg_model.predict(X_test)\n",
    "mean_squared_error(y_test, y_predict)"
   ]
  },
  {
   "cell_type": "markdown",
   "metadata": {
    "colab_type": "text",
    "id": "W_Uhi4qMcGNl"
   },
   "source": [
    "###Getting 50 MSE values "
   ]
  },
  {
   "cell_type": "code",
   "execution_count": 38,
   "metadata": {
    "colab": {},
    "colab_type": "code",
    "id": "wwzwEH79azua"
   },
   "outputs": [],
   "source": [
    "mse_values=[]\n",
    "for i in range(50):\n",
    "  X_train, X_test, y_train, y_test = train_test_split(predictors,target,test_size=0.3,shuffle=True) \n",
    "  reg_model=k_reg_model()\n",
    "  reg_model.fit(X_train, y_train, epochs=50, verbose=0)\n",
    "  y_predict=reg_model.predict(X_test)\n",
    "  err=mean_squared_error(y_test, y_predict)\n",
    "  mse_values.append(err)"
   ]
  },
  {
   "cell_type": "code",
   "execution_count": 52,
   "metadata": {
    "colab": {
     "base_uri": "https://localhost:8080/",
     "height": 265
    },
    "colab_type": "code",
    "id": "FZ_NkeyocUir",
    "outputId": "8932e0ef-6782-4c4d-f62d-17d13fbbb302"
   },
   "outputs": [
    {
     "data": {
      "image/png": "[encoded data removed]",
      "text/plain": [
       "<Figure size 432x288 with 1 Axes>"
      ]
     },
     "metadata": {
      "needs_background": "light",
      "tags": []
     },
     "output_type": "display_data"
    }
   ],
   "source": [
    "plt.hist(mse_values,bins = 30)\n",
    "plt.show()"
   ]
  },
  {
   "cell_type": "code",
   "execution_count": 54,
   "metadata": {
    "colab": {
     "base_uri": "https://localhost:8080/",
     "height": 34
    },
    "colab_type": "code",
    "id": "OpnNdMLTf-IF",
    "outputId": "81ef36c1-e0a6-4b84-eb10-490ee4e9d206"
   },
   "outputs": [
    {
     "data": {
      "text/plain": [
       "144.83061857890974"
      ]
     },
     "execution_count": 54,
     "metadata": {
      "tags": []
     },
     "output_type": "execute_result"
    }
   ],
   "source": [
    "min(mse_values)"
   ]
  },
  {
   "cell_type": "markdown",
   "metadata": {
    "colab_type": "text",
    "id": "4MwlQmAwdFAl"
   },
   "source": [
    "It's all in range 0:1000 a=with some stray data with minimum 144.8\n",
    "\n"
   ]
  },
  {
   "cell_type": "markdown",
   "metadata": {
    "colab_type": "text",
    "id": "LifAMl-cdZXr"
   },
   "source": [
    "###Reporting the mean and the standard deviation of MSE value"
   ]
  },
  {
   "cell_type": "code",
   "execution_count": 48,
   "metadata": {
    "colab": {
     "base_uri": "https://localhost:8080/",
     "height": 50
    },
    "colab_type": "code",
    "id": "_8gs3Ll9dL07",
    "outputId": "1c869778-b08e-40d8-f056-baacda9835ac"
   },
   "outputs": [
    {
     "name": "stdout",
     "output_type": "stream",
     "text": [
      "The mean of MSE is 418.61342310920935\n",
      "The STD of MSE is 715.5581652787045\n"
     ]
    }
   ],
   "source": [
    "print(\"The mean of MSE is {}\".format(mean(mse_values)))\n",
    "print(\"The STD of MSE is {}\".format(std(mse_values)))"
   ]
  },
  {
   "cell_type": "markdown",
   "metadata": {
    "colab_type": "text",
    "id": "907i9vBaeHvA"
   },
   "source": [
    "#Part(B) ->> Repeating Part (A) but with Normalized Data"
   ]
  },
  {
   "cell_type": "code",
   "execution_count": 49,
   "metadata": {
    "colab": {
     "base_uri": "https://localhost:8080/",
     "height": 34
    },
    "colab_type": "code",
    "id": "2-wZdIFPeSco",
    "outputId": "e581e5fc-bab1-4a65-b103-9973d08f7cad"
   },
   "outputs": [
    {
     "data": {
      "text/plain": [
       "309.04296685636217"
      ]
     },
     "execution_count": 49,
     "metadata": {
      "tags": []
     },
     "output_type": "execute_result"
    }
   ],
   "source": [
    "#Spliting data to test and train sets\n",
    "X_train_norm, X_test_norm, y_train_norm, y_test_norm = train_test_split(predictors_norm,target,test_size=0.3,shuffle=True) \n",
    "#Building model & Evaluating\n",
    "reg_model=k_reg_model()\n",
    "reg_model.fit(X_train_norm, y_train_norm, epochs=50, verbose=0)\n",
    "y_predict_norm=reg_model.predict(X_test_norm)\n",
    "mean_squared_error(y_test_norm, y_predict_norm)"
   ]
  },
  {
   "cell_type": "markdown",
   "metadata": {
    "colab_type": "text",
    "id": "Sfiy-JyVfJ2x"
   },
   "source": [
    "Far Better than part A result"
   ]
  },
  {
   "cell_type": "code",
   "execution_count": 50,
   "metadata": {
    "colab": {},
    "colab_type": "code",
    "id": "fVMgw3xxfN3x"
   },
   "outputs": [],
   "source": [
    "mse_norm_values=[]\n",
    "for i in range(50):\n",
    "  X_train_norm, X_test_norm, y_train_norm, y_test_norm = train_test_split(predictors_norm,target,test_size=0.3,shuffle=True) \n",
    "  reg_model=k_reg_model()\n",
    "  reg_model.fit(X_train_norm, y_train_norm, epochs=50, verbose=0)\n",
    "  y_predict_norm=reg_model.predict(X_test_norm)\n",
    "  err_norm=mean_squared_error(y_test_norm, y_predict_norm)\n",
    "  mse_norm_values.append(err_norm)"
   ]
  },
  {
   "cell_type": "code",
   "execution_count": 53,
   "metadata": {
    "colab": {
     "base_uri": "https://localhost:8080/",
     "height": 265
    },
    "colab_type": "code",
    "id": "zAJ6sSOMfcBa",
    "outputId": "f3cf34c2-7f3b-40aa-9526-3fedfff3d247"
   },
   "outputs": [
    {
     "data": {
      "image/png": "[encoded data removed]",
      "text/plain": [
       "<Figure size 432x288 with 1 Axes>"
      ]
     },
     "metadata": {
      "needs_background": "light",
      "tags": []
     },
     "output_type": "display_data"
    }
   ],
   "source": [
    "plt.hist(mse_norm_values,bins = 30)\n",
    "plt.show()"
   ]
  },
  {
   "cell_type": "code",
   "execution_count": 55,
   "metadata": {
    "colab": {
     "base_uri": "https://localhost:8080/",
     "height": 34
    },
    "colab_type": "code",
    "id": "hOLCsbragHoV",
    "outputId": "0876c4cc-bed4-433e-ce3b-ea848f703d66"
   },
   "outputs": [
    {
     "data": {
      "text/plain": [
       "249.90616375702487"
      ]
     },
     "execution_count": 55,
     "metadata": {
      "tags": []
     },
     "output_type": "execute_result"
    }
   ],
   "source": [
    "min(mse_norm_values)"
   ]
  },
  {
   "cell_type": "markdown",
   "metadata": {
    "colab_type": "text",
    "id": "VADWR1-Af1EK"
   },
   "source": [
    "#####Now the range closed between 250 and 500 with stray data around 575 with minimum 249 .. that doesn't mean that without nomalization is better.\n",
    "#####We will have to calculate the mean and std to check which is better"
   ]
  },
  {
   "cell_type": "code",
   "execution_count": 56,
   "metadata": {
    "colab": {
     "base_uri": "https://localhost:8080/",
     "height": 50
    },
    "colab_type": "code",
    "id": "EhjkufvDg7tG",
    "outputId": "a156905c-3333-4591-a3ea-71d7c3051bac"
   },
   "outputs": [
    {
     "name": "stdout",
     "output_type": "stream",
     "text": [
      "The mean of MSE normalized is 365.941765775836\n",
      "The STD of MSE normalized is 85.70299386230323\n"
     ]
    }
   ],
   "source": [
    "print(\"The mean of MSE normalized is {}\".format(mean(mse_norm_values)))\n",
    "print(\"The STD of MSE normalized is {}\".format(std(mse_norm_values)))"
   ]
  },
  {
   "cell_type": "markdown",
   "metadata": {
    "colab_type": "text",
    "id": "eXjWlRNphEH_"
   },
   "source": [
    "#####Now both mean and std are fat better than without normalizing data"
   ]
  },
  {
   "cell_type": "markdown",
   "metadata": {
    "colab_type": "text",
    "id": "moNMPdS2hNoR"
   },
   "source": [
    "#Part (C) ->> Part B but with 100 epoches"
   ]
  },
  {
   "cell_type": "code",
   "execution_count": 58,
   "metadata": {
    "colab": {
     "base_uri": "https://localhost:8080/",
     "height": 34
    },
    "colab_type": "code",
    "id": "asD2dzwbhMzB",
    "outputId": "ee74bed9-87f9-4f74-c357-4abd1c3cfcfb"
   },
   "outputs": [
    {
     "data": {
      "text/plain": [
       "183.6513111593797"
      ]
     },
     "execution_count": 58,
     "metadata": {
      "tags": []
     },
     "output_type": "execute_result"
    }
   ],
   "source": [
    "#Spliting data to test and train sets\n",
    "X_train_norm, X_test_norm, y_train_norm, y_test_norm = train_test_split(predictors_norm,target,test_size=0.3,shuffle=True) \n",
    "#Building model & Evaluating\n",
    "reg_model=k_reg_model()\n",
    "reg_model.fit(X_train_norm, y_train_norm, epochs=100, verbose=0)\n",
    "y_predict_norm=reg_model.predict(X_test_norm)\n",
    "mean_squared_error(y_test_norm, y_predict_norm)"
   ]
  },
  {
   "cell_type": "code",
   "execution_count": 59,
   "metadata": {
    "colab": {},
    "colab_type": "code",
    "id": "4V4TLVq2hbq2"
   },
   "outputs": [],
   "source": [
    "mse_norm_values=[]\n",
    "for i in range(50):\n",
    "  X_train_norm, X_test_norm, y_train_norm, y_test_norm = train_test_split(predictors_norm,target,test_size=0.3,shuffle=True) \n",
    "  reg_model=k_reg_model()\n",
    "  reg_model.fit(X_train_norm, y_train_norm, epochs=100, verbose=0)\n",
    "  y_predict_norm=reg_model.predict(X_test_norm)\n",
    "  err_norm=mean_squared_error(y_test_norm, y_predict_norm)\n",
    "  mse_norm_values.append(err_norm)"
   ]
  },
  {
   "cell_type": "code",
   "execution_count": 60,
   "metadata": {
    "colab": {
     "base_uri": "https://localhost:8080/",
     "height": 265
    },
    "colab_type": "code",
    "id": "t6F4GqRPhi1c",
    "outputId": "0423efa4-b090-4695-daba-83feefdc0582"
   },
   "outputs": [
    {
     "data": {
      "image/png": "[encoded data removed]",
      "text/plain": [
       "<Figure size 432x288 with 1 Axes>"
      ]
     },
     "metadata": {
      "needs_background": "light",
      "tags": []
     },
     "output_type": "display_data"
    }
   ],
   "source": [
    "plt.hist(mse_norm_values,bins = 30)\n",
    "plt.show()"
   ]
  },
  {
   "cell_type": "code",
   "execution_count": 61,
   "metadata": {
    "colab": {
     "base_uri": "https://localhost:8080/",
     "height": 50
    },
    "colab_type": "code",
    "id": "rYHNek_wiM8y",
    "outputId": "3259afc4-daa7-4cf7-8faa-c3d0e115adde"
   },
   "outputs": [
    {
     "name": "stdout",
     "output_type": "stream",
     "text": [
      "The mean of MSE normalized is 200.64428021166205\n",
      "The STD of MSE normalized is 21.272666895411472\n"
     ]
    }
   ],
   "source": [
    "print(\"The mean of MSE normalized is {}\".format(mean(mse_norm_values)))\n",
    "print(\"The STD of MSE normalized is {}\".format(std(mse_norm_values)))"
   ]
  },
  {
   "cell_type": "markdown",
   "metadata": {
    "colab_type": "text",
    "id": "B4Io9NCJiE-B"
   },
   "source": [
    "Now , it's down to become between range of 160 and 280"
   ]
  },
  {
   "cell_type": "markdown",
   "metadata": {
    "colab_type": "text",
    "id": "DjXSu3EihoGG"
   },
   "source": [
    "we can see that increasing the number of epoches reduces the MSE efficiently"
   ]
  },
  {
   "cell_type": "markdown",
   "metadata": {
    "colab_type": "text",
    "id": "WAT53nhsh0Fa"
   },
   "source": [
    "#Part (D) ->> Part B but with 3  hidden layers"
   ]
  },
  {
   "cell_type": "code",
   "execution_count": 63,
   "metadata": {
    "colab": {},
    "colab_type": "code",
    "id": "H2DBFHOyifF9"
   },
   "outputs": [],
   "source": [
    "# Baseline model\n",
    "def k_reg_model_three_layers():\n",
    "    # create model\n",
    "    model = Sequential()\n",
    "    model.add(Dense(10, activation='relu', input_shape=(n_cols,)))\n",
    "    model.add(Dense(10, activation='relu'))\n",
    "    model.add(Dense(10, activation='relu'))\n",
    "    model.add(Dense(1))\n",
    "    \n",
    "    # compiling the model\n",
    "    model.compile(optimizer='adam', loss='mean_squared_error')\n",
    "    return model"
   ]
  },
  {
   "cell_type": "code",
   "execution_count": 64,
   "metadata": {
    "colab": {
     "base_uri": "https://localhost:8080/",
     "height": 34
    },
    "colab_type": "code",
    "id": "2RR76fdLi38R",
    "outputId": "e19f4edf-9983-49f6-c4dc-cceaa6cdb933"
   },
   "outputs": [
    {
     "data": {
      "text/plain": [
       "169.75954690930635"
      ]
     },
     "execution_count": 64,
     "metadata": {
      "tags": []
     },
     "output_type": "execute_result"
    }
   ],
   "source": [
    "#Spliting data to test and train sets\n",
    "X_train_norm, X_test_norm, y_train_norm, y_test_norm = train_test_split(predictors_norm,target,test_size=0.3,shuffle=True) \n",
    "#Building model & Evaluating\n",
    "reg_model=k_reg_model_three_layers() ## new model\n",
    "reg_model.fit(X_train_norm, y_train_norm, epochs=100, verbose=0)\n",
    "y_predict_norm=reg_model.predict(X_test_norm)\n",
    "mean_squared_error(y_test_norm, y_predict_norm)"
   ]
  },
  {
   "cell_type": "code",
   "execution_count": 65,
   "metadata": {
    "colab": {},
    "colab_type": "code",
    "id": "cPg425uti7XT"
   },
   "outputs": [],
   "source": [
    "mse_norm_values=[]\n",
    "for i in range(50):\n",
    "  X_train_norm, X_test_norm, y_train_norm, y_test_norm = train_test_split(predictors_norm,target,test_size=0.3,shuffle=True) \n",
    "  reg_model=k_reg_model_three_layers()\n",
    "  reg_model.fit(X_train_norm, y_train_norm, epochs=100, verbose=0)\n",
    "  y_predict_norm=reg_model.predict(X_test_norm)\n",
    "  err_norm=mean_squared_error(y_test_norm, y_predict_norm)\n",
    "  mse_norm_values.append(err_norm)"
   ]
  },
  {
   "cell_type": "code",
   "execution_count": 66,
   "metadata": {
    "colab": {
     "base_uri": "https://localhost:8080/",
     "height": 265
    },
    "colab_type": "code",
    "id": "4i6Z0cRdjAoK",
    "outputId": "47cfbd3c-49d3-4247-fe76-b116644d8b76"
   },
   "outputs": [
    {
     "data": {
      "image/png": "[encoded data removed]",
      "text/plain": [
       "<Figure size 432x288 with 1 Axes>"
      ]
     },
     "metadata": {
      "needs_background": "light",
      "tags": []
     },
     "output_type": "display_data"
    }
   ],
   "source": [
    "plt.hist(mse_norm_values,bins = 30)\n",
    "plt.show()"
   ]
  },
  {
   "cell_type": "code",
   "execution_count": 67,
   "metadata": {
    "colab": {
     "base_uri": "https://localhost:8080/",
     "height": 50
    },
    "colab_type": "code",
    "id": "lJixB7GyjCYO",
    "outputId": "ef291c2b-1346-4109-be0e-e6c771c3888e"
   },
   "outputs": [
    {
     "name": "stdout",
     "output_type": "stream",
     "text": [
      "The mean of MSE normalized is 156.57748090965006\n",
      "The STD of MSE normalized is 10.599242400459143\n"
     ]
    }
   ],
   "source": [
    "print(\"The mean of MSE normalized is {}\".format(mean(mse_norm_values)))\n",
    "print(\"The STD of MSE normalized is {}\".format(std(mse_norm_values)))"
   ]
  },
  {
   "cell_type": "markdown",
   "metadata": {
    "colab_type": "text",
    "id": "mVSnjk03jy5c"
   },
   "source": [
    "Three Hidden Layers with 100 epoches and normalized data gives us good results on concrete dataset."
   ]
  }
 ],
 "metadata": {
  "colab": {
   "collapsed_sections": [],
   "name": "KRegressor.ipynb",
   "provenance": [],
   "toc_visible": true
  },
  "kernelspec": {
   "display_name": "Python 3",
   "language": "python",
   "name": "python3"
  },
  "language_info": {
   "codemirror_mode": {
    "name": "ipython",
    "version": 3
   },
   "file_extension": ".py",
   "mimetype": "text/x-python",
   "name": "python",
   "nbconvert_exporter": "python",
   "pygments_lexer": "ipython3",
   "version": "3.7.4"
  }
 },
 "nbformat": 4,
 "nbformat_minor": 4
}
